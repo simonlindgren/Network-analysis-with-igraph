{
 "cells": [
  {
   "cell_type": "markdown",
   "metadata": {},
   "source": [
    "## Network analysis with `igraph` in R\n",
    "This notebook was posted by Simon Lindgren // [@simonlindgren](http://www.twitter.com/simonlindgren) // [simonlindgren.com](http://simonlindgren.com).\n",
    "\n",
    "It is about how to do social network analysis in R, using the [`igraph`](http://igraph.org/r/) package. In creating this notebook, I found the tutorials posted by [Katya Ognyanova](http://kateto.net) very helpful."
   ]
  },
  {
   "cell_type": "code",
   "execution_count": null,
   "metadata": {
    "collapsed": true
   },
   "outputs": [],
   "source": [
    "# Import required libraries\n",
    "library(igraph)\n",
    "library(readr)\n",
    "library(dplyr)"
   ]
  },
  {
   "cell_type": "markdown",
   "metadata": {},
   "source": [
    "##### Import data\n",
    "We have a csv file with two columns where one is source (from) and the other is target (to). We read it into an R dataframe using `readr`. The `read_csv` function wants comma separated columns, while `read_csv2` is for semicolon."
   ]
  },
  {
   "cell_type": "code",
   "execution_count": null,
   "metadata": {
    "collapsed": true
   },
   "outputs": [],
   "source": [
    "# Read the file into a dataframe\n",
    "edges_raw <- read_csv(\"blm.csv\")\n",
    "#edges_raw"
   ]
  },
  {
   "cell_type": "markdown",
   "metadata": {},
   "source": [
    "###### Prepare edges"
   ]
  },
  {
   "cell_type": "code",
   "execution_count": null,
   "metadata": {
    "collapsed": false
   },
   "outputs": [],
   "source": [
    "# We want the edge weights, so we read the edges\n",
    "# into an adjacency matrix\n",
    "adjmat <- as.matrix(get.adjacency(graph.data.frame(edges_raw)))\n",
    "\n",
    "# adjacency matrix to graph\n",
    "temp_graph <- graph.adjacency(adjmat, weighted = TRUE)\n",
    "\n",
    "# back to dataframe\n",
    "edges <- get.data.frame(temp_graph)\n",
    "edges <- edges %>%\n",
    "    arrange(desc(weight)) # sort by descending weight\n",
    "\n",
    "edges"
   ]
  },
  {
   "cell_type": "markdown",
   "metadata": {},
   "source": [
    "######  Read the edgelist as a graph"
   ]
  },
  {
   "cell_type": "code",
   "execution_count": null,
   "metadata": {
    "collapsed": true
   },
   "outputs": [],
   "source": [
    "# Create a graph from the dataframe\n",
    "g <- graph_from_data_frame(d=edges, directed=F)\n",
    "\n",
    "# Simplify the graph\n",
    "g <- simplify(g, remove.multiple = TRUE,\n",
    "         remove.loops = TRUE,\n",
    "         edge.attr.comb = igraph_opt(\"edge.attr.comb\"))"
   ]
  },
  {
   "cell_type": "markdown",
   "metadata": {},
   "source": [
    "##### Inspect the graph\n",
    "\n",
    "\n",
    "The description of an igraph object starts with four letters:\n",
    "1. D or U, for a directed or undirected graph\n",
    "2. N for a named graph (where nodes have a name attribute)\n",
    "3. W for a weighted graph (where edges have a weight attribute)\n",
    "4. B for a bipartite (two-mode) graph (where nodes have a type attribute)"
   ]
  },
  {
   "cell_type": "code",
   "execution_count": null,
   "metadata": {
    "collapsed": false
   },
   "outputs": [],
   "source": [
    "g"
   ]
  },
  {
   "cell_type": "code",
   "execution_count": null,
   "metadata": {
    "collapsed": false
   },
   "outputs": [],
   "source": [
    "E(g)$weight # all edge weights"
   ]
  },
  {
   "cell_type": "code",
   "execution_count": null,
   "metadata": {
    "collapsed": false
   },
   "outputs": [],
   "source": [
    "V(g)$name # all vertex names"
   ]
  },
  {
   "cell_type": "markdown",
   "metadata": {},
   "source": [
    "###### Calculate centrality"
   ]
  },
  {
   "cell_type": "code",
   "execution_count": null,
   "metadata": {
    "collapsed": false
   },
   "outputs": [],
   "source": [
    "# Degree\n",
    "# 'normalized' means normalising scores with min-max normalisaion\n",
    "deg <- degree(g, mode=\"total\", normalized = F)\n",
    "indeg <- degree(g, mode=\"in\", normalized = F)\n",
    "outdeg <- degree(g, mode=\"out\", normalized = F)\n",
    "\n",
    "# set them as node attributes\n",
    "V(g)$deg <- deg\n",
    "V(g)$indeg <- indeg\n",
    "V(g)$outdeg <- outdeg"
   ]
  },
  {
   "cell_type": "code",
   "execution_count": null,
   "metadata": {
    "collapsed": true
   },
   "outputs": [],
   "source": [
    "# Betweenness centrality\n",
    "# 'normalized' normalises the socres according to Bnorm=2*B/(n*n-3*n+2)\n",
    "betw <- betweenness(g, directed=F, normalized = T)\n",
    "V(g)$betw <- betw # set it as a node attribute"
   ]
  },
  {
   "cell_type": "code",
   "execution_count": null,
   "metadata": {
    "collapsed": false
   },
   "outputs": [],
   "source": [
    "# We can inspect the attributes we have set, for example:\n",
    "V(g)$indeg"
   ]
  },
  {
   "cell_type": "markdown",
   "metadata": {
    "collapsed": true
   },
   "source": [
    "###### A first plot"
   ]
  },
  {
   "cell_type": "code",
   "execution_count": null,
   "metadata": {
    "collapsed": false
   },
   "outputs": [],
   "source": [
    "plot(g, vertex.label=NA, \n",
    "     edge.curved=.4, \n",
    "     edge.color=\"black\", \n",
    "     vertex.color=\"pink\")"
   ]
  },
  {
   "cell_type": "code",
   "execution_count": null,
   "metadata": {
    "collapsed": false
   },
   "outputs": [],
   "source": [
    "# Set node size based on betweenness\n",
    "V(g)$size <- betw*100 # multiply by suitable number for visualisation\n",
    "\n",
    "plot(g, vertex.label=NA, \n",
    "     edge.curved=.4, \n",
    "     edge.color=\"black\", \n",
    "     vertex.color=\"pink\")"
   ]
  },
  {
   "cell_type": "code",
   "execution_count": null,
   "metadata": {
    "collapsed": true
   },
   "outputs": [],
   "source": [
    "# Set edge width based on weight:\n",
    "E(g)$width <- E(g)$weight/10 # divide by suitable number for visualisation\n",
    "\n",
    "plot(g, vertex.label=NA, \n",
    "     edge.curved=.4, \n",
    "     edge.color=\"black\", \n",
    "     vertex.color=\"pink\")"
   ]
  },
  {
   "cell_type": "markdown",
   "metadata": {},
   "source": [
    "###### Sparsify the network\n",
    "We calculate the mean edge weight in the network."
   ]
  },
  {
   "cell_type": "code",
   "execution_count": null,
   "metadata": {
    "collapsed": true
   },
   "outputs": [],
   "source": [
    "mean(edges$weight)"
   ]
  },
  {
   "cell_type": "markdown",
   "metadata": {},
   "source": [
    "We then define the mean as a cutoff point and create a graph with all edges with a weight below the mean deleted."
   ]
  },
  {
   "cell_type": "code",
   "execution_count": null,
   "metadata": {
    "collapsed": false
   },
   "outputs": [],
   "source": [
    "edges_cut_off <- mean(edges$weight)\n",
    "g.sp <- delete_edges(g, E(g)[weight<edges_cut_off])\n",
    "\n",
    "plot(g.sp, vertex.label=NA, \n",
    "     edge.curved=.4, \n",
    "     edge.color=\"black\", \n",
    "     vertex.color=\"pink\")"
   ]
  },
  {
   "cell_type": "markdown",
   "metadata": {},
   "source": [
    "Then, we calculate the mean degree of nodes."
   ]
  },
  {
   "cell_type": "code",
   "execution_count": null,
   "metadata": {
    "collapsed": true
   },
   "outputs": [],
   "source": [
    "mean(V(g.sp)$deg)"
   ]
  },
  {
   "cell_type": "code",
   "execution_count": null,
   "metadata": {
    "collapsed": true
   },
   "outputs": [],
   "source": [
    "# nodes_cut_off <- mean(V(g)$deg)\n",
    "nodes_cut_off <- 5 # or set it manually\n",
    "g.sp <- delete_vertices(g.sp, V(g.sp)[V(g.sp)$deg<nodes_cut_off])\n",
    "\n",
    "plot(g.sp, vertex.label=NA, \n",
    "     edge.curved=.4, \n",
    "     edge.color=\"black\", \n",
    "     vertex.color=\"pink\")"
   ]
  },
  {
   "cell_type": "markdown",
   "metadata": {},
   "source": [
    "##### Layout the network\n",
    "There are many available [network layouts](http://igraph.org/r/doc/layout_.html)."
   ]
  },
  {
   "cell_type": "code",
   "execution_count": null,
   "metadata": {
    "collapsed": true
   },
   "outputs": [],
   "source": [
    "# Examples of available layouts\n",
    "kk <- layout_with_kk(g.sp) # Kamada-Kawai\n",
    "fr <- layout_with_fr(g.sp) # Fruchterman-Rheingold\n",
    "lgl <- layout_with_lgl(g.sp) #LGL\n",
    "mds <- layout_with_mds(g.sp) #MDS\n",
    "sph <- layout_on_sphere(g.sp)\n",
    "\n",
    "plot(g.sp, vertex.label=NA, \n",
    "     edge.curved=.4, \n",
    "     edge.color=\"black\", \n",
    "     vertex.color=\"pink\",\n",
    "    layout=mds)"
   ]
  },
  {
   "cell_type": "code",
   "execution_count": null,
   "metadata": {
    "collapsed": false
   },
   "outputs": [],
   "source": [
    "# decompose the graph into its connected components\n",
    "graphs <- decompose.graph(g.sp)\n",
    "\n",
    "# pick out the largest connected (giant) component\n",
    "largest <- which.max(sapply(graphs, vcount))\n",
    "\n",
    "giant <- (graphs[[largest]])"
   ]
  },
  {
   "cell_type": "code",
   "execution_count": null,
   "metadata": {
    "collapsed": true
   },
   "outputs": [],
   "source": [
    "# tweak the node sizes\n",
    "V(giant)$size <- betw*60\n",
    "\n",
    "# tweak edge widths\n",
    "E(giant)$width <- E(giant)$weight/15"
   ]
  },
  {
   "cell_type": "code",
   "execution_count": null,
   "metadata": {
    "collapsed": true
   },
   "outputs": [],
   "source": [
    "# plot with some adjusted settings\n",
    "plot(giant,\n",
    "     edge.curved = 0.2,\n",
    "     vertex.label=NA,\n",
    "     edge.color=\"black\", \n",
    "     vertex.color=\"black\")"
   ]
  },
  {
   "cell_type": "code",
   "execution_count": null,
   "metadata": {
    "collapsed": true
   },
   "outputs": [],
   "source": [
    "# plot with labels instead of nodes\n",
    "\n",
    "l <- layout_with_fr(giant, grid = \"grid\")\n",
    "\n",
    "plot(giant,\n",
    "     edge.curved = 0.4,\n",
    "     vertex.label=V(giant)$id,\n",
    "     vertex.label.family = \"Helvetica\",\n",
    "     vertex.label.color = \"black\",\n",
    "     vertex.label.cex = 0.7,\n",
    "     edge.color=\"black\",\n",
    "     vertex.shape=\"none\",\n",
    "    layout=layout_nicely,\n",
    "    main = \"...\")"
   ]
  },
  {
   "cell_type": "markdown",
   "metadata": {},
   "source": [
    "##### Community detection\n",
    "Methods below based on [this](https://users.dimi.uniud.it/~massimo.franceschet/R/communities.html)."
   ]
  },
  {
   "cell_type": "code",
   "execution_count": null,
   "metadata": {
    "collapsed": true
   },
   "outputs": [],
   "source": [
    "c1 = cluster_fast_greedy(giant)\n",
    "c2 = cluster_leading_eigen(giant)\n",
    "c3 = cluster_edge_betweenness(giant)\n",
    "\n",
    "modularity(c1)\n",
    "modularity(c2)\n",
    "modularity(c3)"
   ]
  },
  {
   "cell_type": "code",
   "execution_count": null,
   "metadata": {
    "collapsed": true
   },
   "outputs": [],
   "source": [
    "# plot communities with shaded regions\n",
    "\n",
    "plot(c3, giant, # use c1, c2 or c3\n",
    "     edge.curved = 0.0,\n",
    "     vertex.label=NA,\n",
    "     edge.color=\"black\",\n",
    "    layout=layout_with_fr)"
   ]
  },
  {
   "cell_type": "code",
   "execution_count": null,
   "metadata": {
    "collapsed": true
   },
   "outputs": [],
   "source": [
    "# plot communities without shaded regions\n",
    "\n",
    "plot(giant,\n",
    "     edge.curved = 0.0,\n",
    "     vertex.label=NA,\n",
    "     edge.color=\"black\", \n",
    "     vertex.color=membership(c1), # use c1, c2 or c3\n",
    "    layout=layout_with_fr)\n"
   ]
  },
  {
   "cell_type": "code",
   "execution_count": null,
   "metadata": {
    "collapsed": true
   },
   "outputs": [],
   "source": [
    "# plot dendogram\n",
    "plot_dendrogram(c3) # use c1, c2 or c3"
   ]
  },
  {
   "cell_type": "markdown",
   "metadata": {},
   "source": [
    "##### Other ways to visualise networks"
   ]
  },
  {
   "cell_type": "code",
   "execution_count": null,
   "metadata": {
    "collapsed": false
   },
   "outputs": [],
   "source": [
    "# HEATMAP (suitable for graphs with small numbers of nodes)\n",
    "\n",
    "heatm  <-  as_adjacency_matrix(giant, attr=\"weight\", sparse=F)\n",
    "colnames(heatm) <- V(net)$id\n",
    "rownames(heatm) <- V(net)$id\n",
    "\n",
    "palf <- colorRampPalette(c(\"gold\", \"dark orange\")) \n",
    "heatmap(heatm[,17:1], Rowv = NA, Colv = NA, col = palf(100), \n",
    "        scale=\"none\", margins=c(10,10) )"
   ]
  },
  {
   "cell_type": "code",
   "execution_count": null,
   "metadata": {
    "collapsed": true
   },
   "outputs": [],
   "source": [
    "# DEGREE DISTRIBUTION PLOT\n",
    "degr <- degree(giant, mode=\"total\", normalized = F)\n",
    "\n",
    "\n",
    "deg.dist <- degree_distribution(giant, cumulative=T, mode=\"all\")\n",
    "plot( x=0:max(degr), y=1-deg.dist, pch=19, cex=1.2, col=\"orange\", \n",
    "      xlab=\"Degree\", ylab=\"Cumulative Frequency\")"
   ]
  },
  {
   "cell_type": "markdown",
   "metadata": {},
   "source": [
    "##### Export the graph to Gephi format"
   ]
  },
  {
   "cell_type": "code",
   "execution_count": null,
   "metadata": {
    "collapsed": true
   },
   "outputs": [],
   "source": [
    "library(rgexf)\n",
    "giant.gexf <- igraph.to.gexf(giant)\n",
    "\n",
    "f <- file(\"network.gexf\")\n",
    "writeLines(giant.gexf$graph, con = f)\n",
    "close(f)"
   ]
  }
 ],
 "metadata": {
  "kernelspec": {
   "display_name": "R",
   "language": "R",
   "name": "ir"
  },
  "language_info": {
   "codemirror_mode": "r",
   "file_extension": ".r",
   "mimetype": "text/x-r-source",
   "name": "R",
   "pygments_lexer": "r",
   "version": "3.3.2"
  }
 },
 "nbformat": 4,
 "nbformat_minor": 2
}
